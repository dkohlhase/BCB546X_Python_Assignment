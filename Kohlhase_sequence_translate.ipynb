{
 "cells": [
  {
   "cell_type": "markdown",
   "metadata": {},
   "source": [
    "#  BCB 546X: Python Assignment Details"
   ]
  },
  {
   "cell_type": "markdown",
   "metadata": {},
   "source": [
    "## Your Mission: Complete Python code in a Jupyter Notebook"
   ]
  },
  {
   "cell_type": "markdown",
   "metadata": {},
   "source": [
    "## Python Translate Script"
   ]
  },
  {
   "cell_type": "markdown",
   "metadata": {},
   "source": [
    "# IMPORTANT:\n",
    "    1) install BioPython so that this will work (see first block of optional code)\n",
    "    2) if this script was downloaded individually rather than cloning the repository, make sure to download the  required input files as well ('bears_cytb.fasta' and 'bears_cytb.fasta') into the same directory"
   ]
  },
  {
   "cell_type": "code",
   "execution_count": 1,
   "metadata": {},
   "outputs": [],
   "source": [
    "# installs BioPython in current Jupyter kernel\n",
    "# adapted from https://jakevdp.github.io/blog/2017/12/05/installing-python-packages-from-jupyter/\n",
    "# import sys\n",
    "# !conda install --yes --prefix {sys.prefix} biopython"
   ]
  },
  {
   "cell_type": "code",
   "execution_count": 2,
   "metadata": {},
   "outputs": [],
   "source": [
    "from Bio import SeqIO    # imports the Sequence Input/Output tool from Biopython\n",
    "from Bio.Data import CodonTable    # imports a library of Codon Tables from NCBI that can be used when translating\n",
    "import pandas as pd    # imports the pandas software and renaming it as 'pd' for when it is called"
   ]
  },
  {
   "cell_type": "markdown",
   "metadata": {},
   "source": [
    "### FUNCTIONS ###\n",
    "\n",
    "### 1: Collecting information\n",
    "Dr. X: this gets sequences\n",
    "\n",
    "Please finish documenting this function with comments, or in notebook markdown text.\n",
    "\n",
    "Your descriptions of all functions should contain information about what the function does,\n",
    "as well as information about the return types and arguments."
   ]
  },
  {
   "cell_type": "code",
   "execution_count": 3,
   "metadata": {},
   "outputs": [],
   "source": [
    "def get_sequences_from_file(fasta_fn):    # creating a function called 'get_sequences_from_file' requiring an argument called 'fasta_fn' for the input file\n",
    "    sequence_data_dict = {}    # this creates an empty dictionary called 'sequence_data_dict'\n",
    "    for record in SeqIO.parse(fasta_fn, \"fasta\"):    # starting a For Loop that will iterate through the input file treating it as a fasta file\n",
    "        description = record.description.split()    # takes each entry in the fasta file and splits at the spaces and temporarliy assigns it as a list called 'description'\n",
    "        species_name = description[1] + \" \" + description[2]    # creates the name of each species for the dictionary by taking the second and third items separated by a space and assigns it to 'species_name'\n",
    "        sequence_data_dict[species_name] = record.seq    # fills the dictionary created above with the 'species_name' as the key and associated sequence as the value\n",
    "    return(sequence_data_dict)    # returns the dictionary with the collection of species and sequences"
   ]
  },
  {
   "cell_type": "code",
   "execution_count": 4,
   "metadata": {},
   "outputs": [
    {
     "data": {
      "text/plain": [
       "{'Ursus spelaeus': Seq('ATGACCAACATCCGAAAAACCCATCCATTAGCTAAAATCATCAACAACTCATTT...AGA', SingleLetterAlphabet()),\n",
       " 'Ursus arctos': Seq('ATGACCAACATCCGAAAAACCCACCCATTAGCTAAAATCATCAACAACTCACTT...AGA', SingleLetterAlphabet()),\n",
       " 'Ursus thibetanus': Seq('ATGACCAACATCCGAAAAACCCATCCATTAGCCAAAATCATCAACAACTCACTC...AGA', SingleLetterAlphabet()),\n",
       " 'Melursus ursinus': Seq('ATGACCAACATCCGAAAAACCCACCCATTAGCTAAAATCATTAACAACTCACTC...AGA', SingleLetterAlphabet()),\n",
       " 'Ursus americanus': Seq('ATGACCAACATCCGAAAAACCCACCCATTAGCTAAAATCATCAACAACTCACTT...AGA', SingleLetterAlphabet()),\n",
       " 'Helarctos malayanus': Seq('ATGACCAACATCCGAAAAACCCACCCATTAGCTAAAATCATTAACAACTCACTT...AGA', SingleLetterAlphabet()),\n",
       " 'Ailuropoda melanoleuca': Seq('ATGATCAACATCCGAAAAACTCATCCATTAGTTAAAATTATCAACAACTCATTC...AGA', SingleLetterAlphabet()),\n",
       " 'Tremarctos ornatus': Seq('ATGACCAACATCCGAAAAACTCACCCACTAGCTAAAATCATCAACAGCTCATTC...AGA', SingleLetterAlphabet()),\n",
       " 'Ursus maritimus': Seq('ATGACCAACATCCGAAAAACCCACCCATTAGCTAAAATCATCAACAACTCATTT...AGA', SingleLetterAlphabet())}"
      ]
     },
     "execution_count": 4,
     "metadata": {},
     "output_type": "execute_result"
    }
   ],
   "source": [
    "# We are using the function defined in the previous step using 'bears_cytb.fasta' as the input\n",
    "# and assigning the output to 'bears_dict'. Then we call 'bears_dict' to look at the contents\n",
    "bears_dict = get_sequences_from_file(fasta_fn='bears_cytb.fasta')\n",
    "bears_dict"
   ]
  },
  {
   "cell_type": "markdown",
   "metadata": {},
   "source": [
    "### 2: YOUR STRING-TRANSLATE FUNCTION\n",
    "Write a function that translates sequences.\n",
    "\n",
    "All sequences start at codon position 1.\n",
    "\n",
    "Complete a function that translates using a loop over the string of nucleotides."
   ]
  },
  {
   "cell_type": "code",
   "execution_count": 5,
   "metadata": {},
   "outputs": [],
   "source": [
    "def translate_function(string_nucleotides):    # creating a function called 'translate_function' requiring an argument called 'string_nucleotides' for the input file\n",
    "    mito_table = CodonTable.unambiguous_dna_by_name[\"Vertebrate Mitochondrial\"]    # assigns the \"Vertebrate Mitochondrial\" as 'mito_table' and will be used as the key to translate codons\n",
    "    \n",
    "    if type(string_nucleotides) == str:    # this ifelse statement is checking to make sure the input format is a string\n",
    "        sequence = string_nucleotides    # if the input is a string we are going to assign the input to 'sequence'\n",
    "    else:    # if the input format is NOT a string\n",
    "        sequence = string_nucleotides    # then we change the format to a string and assign the modified input to 'sequence'\n",
    "    \n",
    "    start = sequence.find('ATG')    # Here were are searching for the start codon and defining the sequence to be translated as anthing that follows the start codon\n",
    "    seq_start = sequence[start:]    # adapted from https://stackoverflow.com/questions/19521905/translation-dna-to-protein\n",
    "\n",
    "    aa_seq_string = ''    # we create an empty string called 'aa_seq_string'\n",
    "    for base in range(0,len(seq_start),3):    # start a For Loop that will iterate through every 3 bases of the sequence we defined above for the length of the sequence\n",
    "        codon = seq_start[base:base+3]    # defines each group of 3 bases as a codon\n",
    "        if codon in mito_table.stop_codons:    # this if statement checks the codon to see if it is a stop codon\n",
    "            break    # if the codon is a stop codon then this command will break the loop\n",
    "        aa = mito_table.forward_table[codon]    # if the codon passes the if statement then we use the translation table ('mito_table') to find the corresponding amino acid as assign it to 'aa'\n",
    "        aa_seq_string += aa    # add the newly assigned amino acid to the string we defined above 'aa_seq_string'\n",
    "    return(aa_seq_string)    # after the For Loop iterates through the entire sequence we return the newly built protein sequence"
   ]
  },
  {
   "cell_type": "code",
   "execution_count": 6,
   "metadata": {},
   "outputs": [
    {
     "data": {
      "text/plain": [
       "'MYLAVRYGI'"
      ]
     },
     "execution_count": 6,
     "metadata": {},
     "output_type": "execute_result"
    }
   ],
   "source": [
    "# testing the translation function, we create a random string of nucleotides\n",
    "translate_function(string_nucleotides= 'ATGTATCTAGCAGTACGATACGGGATTAGG')"
   ]
  },
  {
   "cell_type": "markdown",
   "metadata": {},
   "source": [
    "### 3: YOUR ALTERNATIVE FUNCTION\n",
    "Is there a better way to write the translation function? (Hint: yes there is.) \n",
    "Perhaps using available BioPython library utilities?\n",
    "Please also write this function."
   ]
  },
  {
   "cell_type": "code",
   "execution_count": 7,
   "metadata": {},
   "outputs": [],
   "source": [
    "# adapted from http://biopython.org/DIST/docs/tutorial/Tutorial.html#htoc25\n",
    "from Bio.Seq import Seq    # imports the Seq tool from Biopython\n",
    "from Bio.Alphabet import IUPAC    # imports the nucleotide and protein alphabets defined by IUPAC from Biopython"
   ]
  },
  {
   "cell_type": "code",
   "execution_count": 8,
   "metadata": {},
   "outputs": [],
   "source": [
    "# creating a function called 'translate_nucleotides' requiring an argument called 'string_nucleotides' for the input file\n",
    "def translate_nucleotides(string_nucleotides):\n",
    "    coding_dna = Seq(string_nucleotides, IUPAC.unambiguous_dna)    # creates a Seq object, use the input 'string_nucleotides' as the sequence of the object with the IUPAC.unambiguous_dna as the associated alphabet and assign it to 'coding_dna'\n",
    "    aa_seq_string = coding_dna.translate(table=\"Vertebrate Mitochondrial\", to_stop=True)    # translates the Seq object we created above using the .translate() function while specifying the translation table \"Vertebrate Mitochondrial\" and telling the function to stop translating once it hits a stop codon\n",
    "    return(aa_seq_string)    # returns the translated sequence"
   ]
  },
  {
   "cell_type": "code",
   "execution_count": 9,
   "metadata": {},
   "outputs": [
    {
     "data": {
      "text/plain": [
       "Seq('MYLAVRYGI', IUPACProtein())"
      ]
     },
     "execution_count": 9,
     "metadata": {},
     "output_type": "execute_result"
    }
   ],
   "source": [
    "# testing the new translation function given just a string of nucleotides, we use the same string of nucleotides from the test above\n",
    "translate_nucleotides('ATGTATCTAGCAGTACGATACGGGATTAGG')"
   ]
  },
  {
   "cell_type": "code",
   "execution_count": 10,
   "metadata": {},
   "outputs": [],
   "source": [
    "# creating a function called 'translate_Seq' requiring an argument called 'Seq_object' for the input file\n",
    "def translate_Seq(Seq_object):\n",
    "    aa_seq_string = Seq_object.translate(table=\"Vertebrate Mitochondrial\", to_stop=True)    # translates the input Seq object using the .translate() function while specifying the translation table \"Vertebrate Mitochondrial\" and telling the function to stop translating once it hits a stop codon\n",
    "    return(aa_seq_string)    # returns the translated sequence"
   ]
  },
  {
   "cell_type": "code",
   "execution_count": 11,
   "metadata": {},
   "outputs": [
    {
     "data": {
      "text/plain": [
       "Seq('MTNIRKTHPLAKIINNSLIDLPAPSNISAWWNFGSLLGVCLILQIMTGLFLAMH...SKW', ExtendedIUPACProtein())"
      ]
     },
     "execution_count": 11,
     "metadata": {},
     "output_type": "execute_result"
    }
   ],
   "source": [
    "# testing the other new translation function given a Seq object as the input\n",
    "translate_Seq(bears_dict['Helarctos malayanus'])"
   ]
  },
  {
   "cell_type": "markdown",
   "metadata": {},
   "source": [
    "### 4: YOUR COUNT AA ANALYSIS FUNCTION\n",
    "Write a function that calculates the molecular weight of each amino acid sequence.\n",
    "\n",
    "For this, you can use some BioPython functions. I think you can use the ProtParam module.\n",
    "\n",
    "For more info, check this out: http://biopython.org/wiki/ProtParam\n",
    "\n",
    "So you should import the following before defining your function:"
   ]
  },
  {
   "cell_type": "code",
   "execution_count": 12,
   "metadata": {},
   "outputs": [],
   "source": [
    "from Bio.SeqUtils.ProtParam import ProteinAnalysis    # imports the Protein Analysis from Biopython"
   ]
  },
  {
   "cell_type": "code",
   "execution_count": 13,
   "metadata": {},
   "outputs": [],
   "source": [
    "# creating a function called 'compute_mw_Seq' requiring an argument called 'Seq_object' for the input file\n",
    "def compute_mw_Seq(Seq_object):\n",
    "    my_seq = translate_Seq(Seq_object)    # uses the 'translate_Seq' function created above to translate the input sequence and assigns the new string of amino acids to 'my_seq'\n",
    "    analysed_seq = ProteinAnalysis(str(my_seq))    # uses the ProteinAnalysis function from Biopython which converts the input as a string 'my_seq' to a Seq object while validating it is a protein sequence and assigns the output to 'analysed_seq'\n",
    "    molecular_weight = analysed_seq.molecular_weight()    # uses the .molecular_weight() function from Biopython to calculate the molecular weight of 'analysed_seq' from above and assigns it to 'molecular_weight'\n",
    "    return molecular_weight    # returns the 'molecular_weight'"
   ]
  },
  {
   "cell_type": "code",
   "execution_count": 14,
   "metadata": {},
   "outputs": [
    {
     "data": {
      "text/plain": [
       "42560.89100000001"
      ]
     },
     "execution_count": 14,
     "metadata": {},
     "output_type": "execute_result"
    }
   ],
   "source": [
    "# testing the 'compute_mw_Seq' function to calculate molecular weight using a Seq object as the input\n",
    "compute_mw_Seq(bears_dict['Helarctos malayanus'])"
   ]
  },
  {
   "cell_type": "markdown",
   "metadata": {},
   "source": [
    "### 5: YOUR GC CONTENT ANALYSIS FUNCTION\n",
    "Write a function that calculates the GC-content (proportion of \"G\" and \"C\") of each DNA sequence and returns this value."
   ]
  },
  {
   "cell_type": "code",
   "execution_count": 15,
   "metadata": {},
   "outputs": [],
   "source": [
    "# http://biopython.org/DIST/docs/api/Bio.SeqUtils-module.html#GC\n",
    "from Bio.SeqUtils import GC    # imports the GC tool from Biopython"
   ]
  },
  {
   "cell_type": "code",
   "execution_count": 16,
   "metadata": {},
   "outputs": [],
   "source": [
    "# creates a function called 'compute_GC_Seq' requiring an argument called 'Seq_object' for the input file\n",
    "def compute_GC_Seq(Seq_object):\n",
    "    GC_content = GC(Seq_object)    # uses the .GC() function to calculate the GC percentage of the nucleotide string from given in the Seq object and assigns the output to 'GC_content'\n",
    "    return GC_content    # returns 'GC_content'"
   ]
  },
  {
   "cell_type": "code",
   "execution_count": 17,
   "metadata": {},
   "outputs": [
    {
     "data": {
      "text/plain": [
       "44.29824561403509"
      ]
     },
     "execution_count": 17,
     "metadata": {},
     "output_type": "execute_result"
    }
   ],
   "source": [
    "# testing the 'compute_GC_Seq' function to calculate the percentage of GC for the sequence of 'Helarctos malayanus' in the bears dictionary\n",
    "compute_GC_Seq(bears_dict['Helarctos malayanus'])"
   ]
  },
  {
   "cell_type": "markdown",
   "metadata": {},
   "source": [
    "##   MAIN"
   ]
  },
  {
   "cell_type": "code",
   "execution_count": 18,
   "metadata": {},
   "outputs": [
    {
     "data": {
      "text/html": [
       "<div>\n",
       "<style scoped>\n",
       "    .dataframe tbody tr th:only-of-type {\n",
       "        vertical-align: middle;\n",
       "    }\n",
       "\n",
       "    .dataframe tbody tr th {\n",
       "        vertical-align: top;\n",
       "    }\n",
       "\n",
       "    .dataframe thead th {\n",
       "        text-align: right;\n",
       "    }\n",
       "</style>\n",
       "<table border=\"1\" class=\"dataframe\">\n",
       "  <thead>\n",
       "    <tr style=\"text-align: right;\">\n",
       "      <th></th>\n",
       "      <th>species</th>\n",
       "      <th>mass</th>\n",
       "    </tr>\n",
       "  </thead>\n",
       "  <tbody>\n",
       "    <tr>\n",
       "      <th>0</th>\n",
       "      <td>Ursus spelaeus</td>\n",
       "      <td>550.800</td>\n",
       "    </tr>\n",
       "    <tr>\n",
       "      <th>1</th>\n",
       "      <td>Ursus arctos</td>\n",
       "      <td>203.500</td>\n",
       "    </tr>\n",
       "    <tr>\n",
       "      <th>2</th>\n",
       "      <td>Ursus thibetanus</td>\n",
       "      <td>99.714</td>\n",
       "    </tr>\n",
       "    <tr>\n",
       "      <th>3</th>\n",
       "      <td>Melursus ursinus</td>\n",
       "      <td>100.030</td>\n",
       "    </tr>\n",
       "    <tr>\n",
       "      <th>4</th>\n",
       "      <td>Ursus americanus</td>\n",
       "      <td>110.560</td>\n",
       "    </tr>\n",
       "    <tr>\n",
       "      <th>5</th>\n",
       "      <td>Helarctos malayanus</td>\n",
       "      <td>47.020</td>\n",
       "    </tr>\n",
       "    <tr>\n",
       "      <th>6</th>\n",
       "      <td>Ailuropoda melanoleuca</td>\n",
       "      <td>118.200</td>\n",
       "    </tr>\n",
       "    <tr>\n",
       "      <th>7</th>\n",
       "      <td>Tremarctos ornatus</td>\n",
       "      <td>140.700</td>\n",
       "    </tr>\n",
       "    <tr>\n",
       "      <th>8</th>\n",
       "      <td>Ursus maritimus</td>\n",
       "      <td>425.100</td>\n",
       "    </tr>\n",
       "  </tbody>\n",
       "</table>\n",
       "</div>"
      ],
      "text/plain": [
       "                  species     mass\n",
       "0          Ursus spelaeus  550.800\n",
       "1            Ursus arctos  203.500\n",
       "2        Ursus thibetanus   99.714\n",
       "3        Melursus ursinus  100.030\n",
       "4        Ursus americanus  110.560\n",
       "5     Helarctos malayanus   47.020\n",
       "6  Ailuropoda melanoleuca  118.200\n",
       "7      Tremarctos ornatus  140.700\n",
       "8         Ursus maritimus  425.100"
      ]
     },
     "execution_count": 18,
     "metadata": {},
     "output_type": "execute_result"
    }
   ],
   "source": [
    "cytb_seqs = get_sequences_from_file(\"bears_cytb.fasta\")    # reads the 'bears_cytb' fasta file from the working directory and assigns it to 'cytb_seqs' as a dictionary\n",
    "bears_df = pd.read_csv(\"bears_mass.csv\")    # reads the 'bears_mass' csv file from the working directory and assigns it to 'bears_df' as a dataframe\n",
    "species_list = list(bears_df.species)    # extracts the species names from the 'bears_df' dataframe and assigns it to 'species_list' as a list\n",
    "bears_df    # prints the 'bears_df' dataframe"
   ]
  },
  {
   "cell_type": "markdown",
   "metadata": {},
   "source": [
    "### 6: Adding columns\n",
    "Add two new columns to the bears DataFrame: \n",
    "\n",
    "    (1) molecular weight\n",
    "    (2) GC content.\n",
    "    \n",
    "Set the value to 'NaN' to indicate that these cells are currently empty."
   ]
  },
  {
   "cell_type": "code",
   "execution_count": 19,
   "metadata": {},
   "outputs": [],
   "source": [
    "import numpy as np    # imports the numpy software and renames it as 'np' for when it is called later"
   ]
  },
  {
   "cell_type": "code",
   "execution_count": 20,
   "metadata": {},
   "outputs": [
    {
     "data": {
      "text/html": [
       "<div>\n",
       "<style scoped>\n",
       "    .dataframe tbody tr th:only-of-type {\n",
       "        vertical-align: middle;\n",
       "    }\n",
       "\n",
       "    .dataframe tbody tr th {\n",
       "        vertical-align: top;\n",
       "    }\n",
       "\n",
       "    .dataframe thead th {\n",
       "        text-align: right;\n",
       "    }\n",
       "</style>\n",
       "<table border=\"1\" class=\"dataframe\">\n",
       "  <thead>\n",
       "    <tr style=\"text-align: right;\">\n",
       "      <th></th>\n",
       "      <th>species</th>\n",
       "      <th>mass</th>\n",
       "      <th>molecular_weight</th>\n",
       "      <th>GC_content</th>\n",
       "    </tr>\n",
       "  </thead>\n",
       "  <tbody>\n",
       "    <tr>\n",
       "      <th>0</th>\n",
       "      <td>Ursus spelaeus</td>\n",
       "      <td>550.800</td>\n",
       "      <td>NaN</td>\n",
       "      <td>NaN</td>\n",
       "    </tr>\n",
       "    <tr>\n",
       "      <th>1</th>\n",
       "      <td>Ursus arctos</td>\n",
       "      <td>203.500</td>\n",
       "      <td>NaN</td>\n",
       "      <td>NaN</td>\n",
       "    </tr>\n",
       "    <tr>\n",
       "      <th>2</th>\n",
       "      <td>Ursus thibetanus</td>\n",
       "      <td>99.714</td>\n",
       "      <td>NaN</td>\n",
       "      <td>NaN</td>\n",
       "    </tr>\n",
       "    <tr>\n",
       "      <th>3</th>\n",
       "      <td>Melursus ursinus</td>\n",
       "      <td>100.030</td>\n",
       "      <td>NaN</td>\n",
       "      <td>NaN</td>\n",
       "    </tr>\n",
       "    <tr>\n",
       "      <th>4</th>\n",
       "      <td>Ursus americanus</td>\n",
       "      <td>110.560</td>\n",
       "      <td>NaN</td>\n",
       "      <td>NaN</td>\n",
       "    </tr>\n",
       "    <tr>\n",
       "      <th>5</th>\n",
       "      <td>Helarctos malayanus</td>\n",
       "      <td>47.020</td>\n",
       "      <td>NaN</td>\n",
       "      <td>NaN</td>\n",
       "    </tr>\n",
       "    <tr>\n",
       "      <th>6</th>\n",
       "      <td>Ailuropoda melanoleuca</td>\n",
       "      <td>118.200</td>\n",
       "      <td>NaN</td>\n",
       "      <td>NaN</td>\n",
       "    </tr>\n",
       "    <tr>\n",
       "      <th>7</th>\n",
       "      <td>Tremarctos ornatus</td>\n",
       "      <td>140.700</td>\n",
       "      <td>NaN</td>\n",
       "      <td>NaN</td>\n",
       "    </tr>\n",
       "    <tr>\n",
       "      <th>8</th>\n",
       "      <td>Ursus maritimus</td>\n",
       "      <td>425.100</td>\n",
       "      <td>NaN</td>\n",
       "      <td>NaN</td>\n",
       "    </tr>\n",
       "  </tbody>\n",
       "</table>\n",
       "</div>"
      ],
      "text/plain": [
       "                  species     mass  molecular_weight  GC_content\n",
       "0          Ursus spelaeus  550.800               NaN         NaN\n",
       "1            Ursus arctos  203.500               NaN         NaN\n",
       "2        Ursus thibetanus   99.714               NaN         NaN\n",
       "3        Melursus ursinus  100.030               NaN         NaN\n",
       "4        Ursus americanus  110.560               NaN         NaN\n",
       "5     Helarctos malayanus   47.020               NaN         NaN\n",
       "6  Ailuropoda melanoleuca  118.200               NaN         NaN\n",
       "7      Tremarctos ornatus  140.700               NaN         NaN\n",
       "8         Ursus maritimus  425.100               NaN         NaN"
      ]
     },
     "execution_count": 20,
     "metadata": {},
     "output_type": "execute_result"
    }
   ],
   "source": [
    "bears_df['molecular_weight'] = np.nan    # creates a column called 'molecular_weight' in the 'bears_df' dataframe and assigns NaN as values for the column\n",
    "bears_df['GC_content'] = np.nan    # creates a column called 'GC_content' in the 'bears_df' dataframe and assigns NaN as values for the column\n",
    "bears_df    # prints the 'bears_df' dataframe with the new columns of all NaN"
   ]
  },
  {
   "cell_type": "markdown",
   "metadata": {},
   "source": [
    "### 7: Creating new DataFrames\n",
    "Write a for-loop that translates each sequence and also gets molecular weight and computes the GC content of each translated sequence and adds those data to DataFrame"
   ]
  },
  {
   "cell_type": "code",
   "execution_count": 21,
   "metadata": {},
   "outputs": [
    {
     "data": {
      "text/html": [
       "<div>\n",
       "<style scoped>\n",
       "    .dataframe tbody tr th:only-of-type {\n",
       "        vertical-align: middle;\n",
       "    }\n",
       "\n",
       "    .dataframe tbody tr th {\n",
       "        vertical-align: top;\n",
       "    }\n",
       "\n",
       "    .dataframe thead th {\n",
       "        text-align: right;\n",
       "    }\n",
       "</style>\n",
       "<table border=\"1\" class=\"dataframe\">\n",
       "  <thead>\n",
       "    <tr style=\"text-align: right;\">\n",
       "      <th></th>\n",
       "      <th>species</th>\n",
       "      <th>mass</th>\n",
       "      <th>molecular_weight</th>\n",
       "      <th>GC_content</th>\n",
       "    </tr>\n",
       "  </thead>\n",
       "  <tbody>\n",
       "    <tr>\n",
       "      <th>0</th>\n",
       "      <td>Ursus spelaeus</td>\n",
       "      <td>550.800</td>\n",
       "      <td>42458.7992</td>\n",
       "      <td>43.771930</td>\n",
       "    </tr>\n",
       "    <tr>\n",
       "      <th>1</th>\n",
       "      <td>Ursus arctos</td>\n",
       "      <td>203.500</td>\n",
       "      <td>42414.7435</td>\n",
       "      <td>43.771930</td>\n",
       "    </tr>\n",
       "    <tr>\n",
       "      <th>2</th>\n",
       "      <td>Ursus thibetanus</td>\n",
       "      <td>99.714</td>\n",
       "      <td>42306.6735</td>\n",
       "      <td>45.614035</td>\n",
       "    </tr>\n",
       "    <tr>\n",
       "      <th>3</th>\n",
       "      <td>Melursus ursinus</td>\n",
       "      <td>100.030</td>\n",
       "      <td>42551.9900</td>\n",
       "      <td>45.175439</td>\n",
       "    </tr>\n",
       "    <tr>\n",
       "      <th>4</th>\n",
       "      <td>Ursus americanus</td>\n",
       "      <td>110.560</td>\n",
       "      <td>42427.7439</td>\n",
       "      <td>43.947368</td>\n",
       "    </tr>\n",
       "    <tr>\n",
       "      <th>5</th>\n",
       "      <td>Helarctos malayanus</td>\n",
       "      <td>47.020</td>\n",
       "      <td>42560.8910</td>\n",
       "      <td>44.298246</td>\n",
       "    </tr>\n",
       "    <tr>\n",
       "      <th>6</th>\n",
       "      <td>Ailuropoda melanoleuca</td>\n",
       "      <td>118.200</td>\n",
       "      <td>42702.1845</td>\n",
       "      <td>40.789474</td>\n",
       "    </tr>\n",
       "    <tr>\n",
       "      <th>7</th>\n",
       "      <td>Tremarctos ornatus</td>\n",
       "      <td>140.700</td>\n",
       "      <td>42384.8266</td>\n",
       "      <td>44.385965</td>\n",
       "    </tr>\n",
       "    <tr>\n",
       "      <th>8</th>\n",
       "      <td>Ursus maritimus</td>\n",
       "      <td>425.100</td>\n",
       "      <td>42454.7873</td>\n",
       "      <td>44.298246</td>\n",
       "    </tr>\n",
       "  </tbody>\n",
       "</table>\n",
       "</div>"
      ],
      "text/plain": [
       "                  species     mass  molecular_weight  GC_content\n",
       "0          Ursus spelaeus  550.800        42458.7992   43.771930\n",
       "1            Ursus arctos  203.500        42414.7435   43.771930\n",
       "2        Ursus thibetanus   99.714        42306.6735   45.614035\n",
       "3        Melursus ursinus  100.030        42551.9900   45.175439\n",
       "4        Ursus americanus  110.560        42427.7439   43.947368\n",
       "5     Helarctos malayanus   47.020        42560.8910   44.298246\n",
       "6  Ailuropoda melanoleuca  118.200        42702.1845   40.789474\n",
       "7      Tremarctos ornatus  140.700        42384.8266   44.385965\n",
       "8         Ursus maritimus  425.100        42454.7873   44.298246"
      ]
     },
     "execution_count": 21,
     "metadata": {},
     "output_type": "execute_result"
    }
   ],
   "source": [
    "for key, value in bears_dict.items():    # starting a For Loop that will iterate through the 'bears_dict' dictionary\n",
    "    bears_df.loc[bears_df.species == key, 'molecular_weight'] = compute_mw_Seq(value)    # uses the 'compute_mw_Seq' created above to translate and then calculate the molecular weight of each vaule (nucleotide sequence) in the dictionary and the fills in the output for the corresponding key in the 'bears_df' dataframe under the 'molecular_weight' column\n",
    "    bears_df.loc[bears_df.species == key, 'GC_content'] = compute_GC_Seq(value)    # uses the 'compute_mw_Seq' created above to calculate the GC content of each vaule (nucleotide sequence) in the dictionary and the fills in the output for the corresponding key in the 'bears_df' dataframe under the 'GC_content' column\n",
    "bears_df    # prints the 'bears_df' dataframe with filled in values for 'molecular_weight' and 'GC_content'"
   ]
  },
  {
   "cell_type": "markdown",
   "metadata": {},
   "source": [
    "### 8: Plotting a bar-chart\n",
    "Plot a bar-chart of the mass with the x-axes labeled with species names.\n",
    "\n",
    "##### *Q1* What is the largest bear species? \n",
    "\n",
    "The largest bear species is *Ursus spelaeus*\n",
    "\n",
    "##### *Q2* What else is interesting about this species?\n",
    "\n",
    "This species of bear went extinct about 24,000 years ago and wasn't described until 1774.\n",
    "#source: https://en.wikipedia.org/wiki/Cave_bear"
   ]
  },
  {
   "cell_type": "code",
   "execution_count": 22,
   "metadata": {},
   "outputs": [],
   "source": [
    "import matplotlib.pyplot as plt    # imports the pyplot framework from the matplot library and renames it as 'plt' for when it is called later\n",
    "import seaborn as sns    # imports the seaborn vizualization library and renames it as 'sns' for when it is called later"
   ]
  },
  {
   "cell_type": "code",
   "execution_count": 23,
   "metadata": {},
   "outputs": [
    {
     "data": {
      "text/plain": [
       "(array([0, 1, 2, 3, 4, 5, 6, 7, 8]), <a list of 9 Text xticklabel objects>)"
      ]
     },
     "execution_count": 23,
     "metadata": {},
     "output_type": "execute_result"
    },
    {
     "data": {
      "image/png": "[encoded data removed]",
      "text/plain": [
       "<Figure size 720x432 with 1 Axes>"
      ]
     },
     "metadata": {
      "needs_background": "light"
     },
     "output_type": "display_data"
    }
   ],
   "source": [
    "fig, ax = plt.subplots(figsize=(10,6))    # defines the size of the following figure\n",
    "sns.barplot(data=bears_df, x='species', y='mass')    # uses the .barplot() function from seaborn to generate a barplot using the 'bears_df' dataframe  with the 'species' collumn on the x-axis and the 'mass' variable on the y-axis\n",
    "ax.set(xlabel='Species', ylabel='Mass (kg)')    # renames the axes\n",
    "plt.title(\"Mass for 8 species of bears\")    # renames the title of the graph\n",
    "plt.xticks(rotation=90)  # rotates the bar lables on the x-axis; adapted from https://stackoverflow.com/questions/10998621/rotate-axis-text-in-python-matplotlib"
   ]
  },
  {
   "cell_type": "markdown",
   "metadata": {},
   "source": [
    "### 9: Plotting a scatterplot\n",
    "Plot a visualization of the molecular weight (y-axis) as a function of GC-content (x-axis)."
   ]
  },
  {
   "cell_type": "code",
   "execution_count": 24,
   "metadata": {},
   "outputs": [
    {
     "data": {
      "text/plain": [
       "<matplotlib.legend.Legend at 0x1a2125eda0>"
      ]
     },
     "execution_count": 24,
     "metadata": {},
     "output_type": "execute_result"
    },
    {
     "data": {
      "image/png": "[encoded data removed]",
      "text/plain": [
       "<Figure size 432x432 with 1 Axes>"
      ]
     },
     "metadata": {
      "needs_background": "light"
     },
     "output_type": "display_data"
    }
   ],
   "source": [
    "fig, ax = plt.subplots(figsize=(6,6))    # defines the size of the following figure\n",
    "sns.scatterplot(data=bears_df, x='GC_content', y='molecular_weight', s=100, hue='species')    # uses the .barplot() function from seaborn to generate a barplot using the 'bears_df' dataframe  with the 'GC_contents' column plotted on the x-axis and the 'molecular_weight' column plotted on the y-axis; also changes the size of the points on the graph and uses the 'species' column to assign colors to the points\n",
    "ax.set(xlabel='GC content (%)', ylabel='Molecular Weight (Da)')    # renames the axes\n",
    "plt.title(\"Molecular weight as a function of GC content\")    # renames the title of the graph\n",
    "plt.xticks(rotation=90)    # rotates the bar lables on the x-axis; adapted from https://stackoverflow.com/questions/10998621/rotate-axis-text-in-python-matplotlib\n",
    "plt.legend(bbox_to_anchor=(1.05, 0.75), loc=2)  # moves the legend outside of the graph to a specifed location; adapted from https://stackoverflow.com/questions/30490740/move-legend-outside-figure-in-seaborn-tsplot"
   ]
  },
  {
   "cell_type": "markdown",
   "metadata": {},
   "source": [
    "### 10: Saving new files\n",
    "Save the new DataFrame to a file called \"bears_mass_cytb.csv\""
   ]
  },
  {
   "cell_type": "code",
   "execution_count": 25,
   "metadata": {},
   "outputs": [],
   "source": [
    "bears_df.to_csv('bears_df.csv')    # saves the 'bears_df' dataframe to a csv in the working directory called 'bears_df.csv' "
   ]
  },
  {
   "cell_type": "markdown",
   "metadata": {},
   "source": [
    "### 11 - BONUS\n",
    "What else can we do with this dataset in Python? \n",
    "Add functions or anything that might be interesting and fun. (optional)\n",
    "\n",
    "I chose to plot all three columns of data in a single 3D graph. These graphs can be useful when creating clusters because the additional variable helps create another opportunity for separation. Even in this instance with a small data set we can see one of the points from the cluster of 5 species in the 2D graph is removed from the cluster in the 3D graph."
   ]
  },
  {
   "cell_type": "code",
   "execution_count": 26,
   "metadata": {},
   "outputs": [],
   "source": [
    "from mpl_toolkits.mplot3d import Axes3D    #imports the mplot3d toolkit from matplot to allow for 3D plotting"
   ]
  },
  {
   "cell_type": "code",
   "execution_count": 27,
   "metadata": {},
   "outputs": [
    {
     "data": {
      "image/png": "[encoded data removed]",
      "text/plain": [
       "<Figure size 432x288 with 1 Axes>"
      ]
     },
     "metadata": {
      "needs_background": "light"
     },
     "output_type": "display_data"
    }
   ],
   "source": [
    "fig = plt.figure()    # defines a new figure using the .figure() option\n",
    "ax = Axes3D(fig)    # uses the Axes3D to generate a 3D figure and assigns it to 'ax'\n",
    "\n",
    "z =list(bears_df['molecular_weight'])    # creates a list from the 'molecular_weight' column in the 'bears_df' dataframe and assigns it to 'z'\n",
    "y =list(bears_df['GC_content'])    # creates a list from the 'GC_content' column in the 'bears_df' dataframe and assigns it to 'y'\n",
    "x =list(bears_df['mass'])    # creates a list from the 'mass' column in the 'bears_df' dataframe and assigns it to 'x'\n",
    "\n",
    "ax.scatter(x, y, z)    # creates a 3D scatter plot using the 3 objects defined above for the respective axes\n",
    "\n",
    "ax.set_xlabel('Mass')    # renames the x-axis\n",
    "ax.set_ylabel('GC Content')    # renames the y-axis\n",
    "ax.set_zlabel('Molecular Weight')    # renames the z-axis\n",
    "\n",
    "plt.show()    # prints the graph"
   ]
  }
 ],
 "metadata": {
  "kernelspec": {
   "display_name": "Python 3",
   "language": "python",
   "name": "python3"
  },
  "language_info": {
   "codemirror_mode": {
    "name": "ipython",
    "version": 3
   },
   "file_extension": ".py",
   "mimetype": "text/x-python",
   "name": "python",
   "nbconvert_exporter": "python",
   "pygments_lexer": "ipython3",
   "version": "3.7.0"
  }
 },
 "nbformat": 4,
 "nbformat_minor": 2
}
